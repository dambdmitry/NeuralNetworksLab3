{
  "nbformat": 4,
  "nbformat_minor": 0,
  "metadata": {
    "colab": {
      "name": "Untitled2.ipynb",
      "provenance": []
    },
    "kernelspec": {
      "name": "python3",
      "display_name": "Python 3"
    },
    "accelerator": "GPU"
  },
  "cells": [
    {
      "cell_type": "code",
      "metadata": {
        "id": "vbhi8tERUCPp",
        "colab_type": "code",
        "colab": {}
      },
      "source": [
        "import numpy as np\n",
        "import torch\n",
        "from torch import nn\n",
        "import torch.nn.functional as F"
      ],
      "execution_count": 0,
      "outputs": []
    },
    {
      "cell_type": "code",
      "metadata": {
        "id": "hL29XmIfU7H7",
        "colab_type": "code",
        "colab": {
          "resources": {
            "http://localhost:8080/nbextensions/google.colab/files.js": {
              "data": "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",
              "ok": true,
              "headers": [
                [
                  "content-type",
                  "application/javascript"
                ]
              ],
              "status": 200,
              "status_text": ""
            }
          },
          "base_uri": "https://localhost:8080/",
          "height": 40
        },
        "outputId": "7a2e32b6-768b-43f2-d294-598ad52ece7a"
      },
      "source": [
        "from google.colab import files\n",
        "\n",
        "uploaded = files.upload()\n",
        "\n",
        "for fn in uploaded.keys():\n",
        "  print('User uploaded file \"{name}\" with length {length} bytes'.format(\n",
        "      name=fn, length=len(uploaded[fn])))"
      ],
      "execution_count": 2,
      "outputs": [
        {
          "output_type": "display_data",
          "data": {
            "text/html": [
              "\n",
              "     <input type=\"file\" id=\"files-0a000adc-8fff-41ac-b2e2-ebf4d7e1fe6c\" name=\"files[]\" multiple disabled />\n",
              "     <output id=\"result-0a000adc-8fff-41ac-b2e2-ebf4d7e1fe6c\">\n",
              "      Upload widget is only available when the cell has been executed in the\n",
              "      current browser session. Please rerun this cell to enable.\n",
              "      </output>\n",
              "      <script src=\"/nbextensions/google.colab/files.js\"></script> "
            ],
            "text/plain": [
              "<IPython.core.display.HTML object>"
            ]
          },
          "metadata": {
            "tags": []
          }
        }
      ]
    },
    {
      "cell_type": "code",
      "metadata": {
        "id": "1ZkJGJA8VFyL",
        "colab_type": "code",
        "colab": {}
      },
      "source": [
        "#Загружаем данные из файла.\n",
        "with open('dostoevsky.txt', 'r') as f:\n",
        "  text = f.read()"
      ],
      "execution_count": 0,
      "outputs": []
    },
    {
      "cell_type": "code",
      "metadata": {
        "id": "vzfxCmDIVcWw",
        "colab_type": "code",
        "colab": {
          "base_uri": "https://localhost:8080/",
          "height": 34
        },
        "outputId": "64afbc4a-0e72-4097-9979-8f3e74f61f4b"
      },
      "source": [
        "#Выведем 100 первых символов текста.\n",
        "text[:100]"
      ],
      "execution_count": 4,
      "outputs": [
        {
          "output_type": "execute_result",
          "data": {
            "text/plain": [
              "'Федор Михайлович Достоевский\\nБедные люди\\nОх уж эти мне сказочники! Нет чтобы написать что-нибудь пол'"
            ]
          },
          "metadata": {
            "tags": []
          },
          "execution_count": 4
        }
      ]
    },
    {
      "cell_type": "code",
      "metadata": {
        "id": "AMyixkBFVo08",
        "colab_type": "code",
        "colab": {}
      },
      "source": [
        "#Закодируем символы в целые числа\n",
        "chars = tuple(set(text))\n",
        "int2char = dict(enumerate(chars))\n",
        "char2int = {ch: ii for ii, ch in int2char.items()}\n",
        "\n",
        "encoded = np.array([char2int[ch] for ch in text])"
      ],
      "execution_count": 0,
      "outputs": []
    },
    {
      "cell_type": "code",
      "metadata": {
        "id": "lCr21Eo6WeUY",
        "colab_type": "code",
        "colab": {
          "base_uri": "https://localhost:8080/",
          "height": 153
        },
        "outputId": "bd4a1f21-8422-4da1-fa4d-5bb2a7342e72"
      },
      "source": [
        "#Выведем те же 100 символов, только в численном представлении.\n",
        "encoded[:100] "
      ],
      "execution_count": 6,
      "outputs": [
        {
          "output_type": "execute_result",
          "data": {
            "text/plain": [
              "array([ 16,   7, 116,  73,  76,  88,  84, 127, 131, 118,  42, 120,  73,\n",
              "        34, 127,  64,  88, 104,  73, 124, 128,  73,   7,  34, 124,  19,\n",
              "       127,  42,  58, 114,   7, 116,  23,  53,   7,  88, 120,  97, 116,\n",
              "       127,  58, 105, 131,  88,  40,  32,  88,  78, 128, 127,  88, 102,\n",
              "        23,   7,  88, 124,  19, 118, 132,  73,  64,  23, 127,  19, 127,\n",
              "       107,  88, 129,   7, 128,  88,  64, 128,  73,  65,  53,  88,  23,\n",
              "       118,  54, 127, 124, 118, 128, 117,  88,  64, 128,  73, 101,  23,\n",
              "       127,  65,  40, 116, 117,  88,  54,  73, 120])"
            ]
          },
          "metadata": {
            "tags": []
          },
          "execution_count": 6
        }
      ]
    },
    {
      "cell_type": "code",
      "metadata": {
        "id": "jjCe2tkRWqd2",
        "colab_type": "code",
        "colab": {}
      },
      "source": [
        "#Используем прямое кодирование для представления букв.\n",
        "def one_hot_encode(arr, n_labels):\n",
        "    one_hot = np.zeros((arr.size, n_labels), dtype=np.float32)\n",
        "    one_hot[np.arange(one_hot.shape[0]), arr.flatten()] = 1.\n",
        "    one_hot = one_hot.reshape((*arr.shape, n_labels))\n",
        "\n",
        "    return one_hot"
      ],
      "execution_count": 0,
      "outputs": []
    },
    {
      "cell_type": "code",
      "metadata": {
        "id": "7yM1iS2aX8_W",
        "colab_type": "code",
        "colab": {
          "base_uri": "https://localhost:8080/",
          "height": 68
        },
        "outputId": "329c4489-1c90-4d4e-adc5-61d6fb895eb5"
      },
      "source": [
        "#Посмотрим как работает функция,написанная выше.\n",
        "test_seq = np.array([3, 5, 1])\n",
        "one_hot = one_hot_encode(test_seq, 8)\n",
        "\n",
        "print(one_hot)"
      ],
      "execution_count": 8,
      "outputs": [
        {
          "output_type": "stream",
          "text": [
            "[[0. 0. 0. 1. 0. 0. 0. 0.]\n",
            " [0. 0. 0. 0. 0. 1. 0. 0.]\n",
            " [0. 1. 0. 0. 0. 0. 0. 0.]]\n"
          ],
          "name": "stdout"
        }
      ]
    },
    {
      "cell_type": "code",
      "metadata": {
        "id": "ChQVR0K5ZHYd",
        "colab_type": "code",
        "colab": {}
      },
      "source": [
        "#Генерация мини-батчей\n",
        "def get_batches(arr, batch_size, seq_length):\n",
        "\n",
        "    batch_size_total = batch_size * seq_length\n",
        "    n_batches = len(arr) // batch_size_total\n",
        "\n",
        "    arr = arr[:n_batches*batch_size_total]\n",
        "\n",
        "    arr = arr.reshape((batch_size, -1))\n",
        "\n",
        "    for n in range(0, arr.shape[1], seq_length):\n",
        "        x = arr[:, n:n+seq_length]  \n",
        "        y = np.zeros_like(x)\n",
        "        try:\n",
        "            y[:, :-1], y[:, -1] = x[:, 1:], arr[:, n+seq_length]\n",
        "        except IndexError:\n",
        "            y[:, :-1], y[:, -1] = x[:, 1:], arr[:, 0]\n",
        "        yield x, y"
      ],
      "execution_count": 0,
      "outputs": []
    },
    {
      "cell_type": "code",
      "metadata": {
        "id": "ogOGKnGnaxDk",
        "colab_type": "code",
        "colab": {
          "base_uri": "https://localhost:8080/",
          "height": 340
        },
        "outputId": "15fbd3c4-1a08-48e9-d648-5f3d74aa74b8"
      },
      "source": [
        "#Протестируем генерацию мини-батчей.\n",
        "batches = get_batches(encoded, 8, 50)\n",
        "x, y = next(batches)\n",
        "\n",
        "print('x\\n', x[:10, :10])\n",
        "print('\\ny\\n', y[:10, :10])\n",
        "#Посмотрим на 6 строчку ноутбука и убедимся в правильности."
      ],
      "execution_count": 10,
      "outputs": [
        {
          "output_type": "stream",
          "text": [
            "x\n",
            " [[ 16   7 116  73  76  88  84 127 131 118]\n",
            " [120  92  88  40 120  53  65 118  60 124]\n",
            " [ 88  34  88  54  76 127  34  53  64  23]\n",
            " [124 117  88  73 124 128 118  34 118 128]\n",
            " [116 117  88  23 118 102   7  76   7  23]\n",
            " [ 88 124   7  62  73 116  23  60  88 116]\n",
            " [ 23   7  88 124  73  34 124   7 102  88]\n",
            " [127  88  54  73  54 118 120  73  92  88]]\n",
            "\n",
            "y\n",
            " [[  7 116  73  76  88  84 127 131 118  42]\n",
            " [ 92  88  40 120  53  65 118  60 124 117]\n",
            " [ 34  88  54  76 127  34  53  64  23  73]\n",
            " [117  88  73 124 128 118  34 118 128 117]\n",
            " [117  88  23 118 102   7  76   7  23 127]\n",
            " [124   7  62  73 116  23  60  88 116  73]\n",
            " [  7  88 124  73  34 124   7 102  88   7]\n",
            " [ 88  54  73  54 118 120  73  92  88 118]]\n"
          ],
          "name": "stdout"
        }
      ]
    },
    {
      "cell_type": "code",
      "metadata": {
        "id": "MgZ8QC4cb6u9",
        "colab_type": "code",
        "colab": {
          "base_uri": "https://localhost:8080/",
          "height": 34
        },
        "outputId": "bfb76413-5db6-483a-992d-965f4c5298d7"
      },
      "source": [
        "train_on_gpu = torch.cuda.is_available()\n",
        "if(train_on_gpu):\n",
        "  print('Training on GPU!')\n",
        "else:\n",
        "  print('Training on CPU')"
      ],
      "execution_count": 11,
      "outputs": [
        {
          "output_type": "stream",
          "text": [
            "Training on GPU!\n"
          ],
          "name": "stdout"
        }
      ]
    },
    {
      "cell_type": "code",
      "metadata": {
        "id": "CX3dgd1ec0pi",
        "colab_type": "code",
        "colab": {}
      },
      "source": [
        "class CharRNN(nn.Module):\n",
        "\n",
        "    def __init__(self, tokens, n_hidden=256, n_layers=2,\n",
        "                               drop_prob=0.5, lr=0.001):\n",
        "        super().__init__()\n",
        "        self.drop_prob = drop_prob\n",
        "        self.n_layers = n_layers\n",
        "        self.n_hidden = n_hidden\n",
        "        self.lr = lr\n",
        "\n",
        "        # Создаем символьные словари\n",
        "        self.chars = tokens\n",
        "        self.int2char = dict(enumerate(self.chars))\n",
        "        self.char2int = {ch: ii for ii, ch in self.int2char.items()}\n",
        "\n",
        "        # Определяем слои модели.\n",
        "        self.lstm = nn.LSTM(len(self.chars), n_hidden, n_layers,\n",
        "                           dropout=drop_prob, batch_first=True)\n",
        "\n",
        "        self.dropout = nn.Dropout(drop_prob)\n",
        "\n",
        "        # Определяем full-connection слой \n",
        "        self.fc = nn.Linear(n_hidden, len(self.chars))\n",
        "\n",
        "    def forward(self, x, hidden):\n",
        "        r_output, hidden = self.lstm(x, hidden)\n",
        "        out = self.dropout(r_output)\n",
        "        out = out.contiguous().view(-1, self.n_hidden)\n",
        "        out = self.fc(out)\n",
        "\n",
        "        return out, hidden\n",
        "\n",
        "    def init_hidden(self, batch_size):\n",
        "        weight = next(self.parameters()).data\n",
        "        if (train_on_gpu):\n",
        "            hidden = (weight.new(self.n_layers, batch_size, self.n_hidden).zero_().cuda(),\n",
        "                  weight.new(self.n_layers, batch_size, self.n_hidden).zero_().cuda())\n",
        "        else:\n",
        "            hidden = (weight.new(self.n_layers, batch_size, self.n_hidden).zero_(),\n",
        "                      weight.new(self.n_layers, batch_size, self.n_hidden).zero_())\n",
        "\n",
        "        return hidden"
      ],
      "execution_count": 0,
      "outputs": []
    },
    {
      "cell_type": "code",
      "metadata": {
        "id": "VRIEAx-6eZJD",
        "colab_type": "code",
        "colab": {}
      },
      "source": [
        "#Обучение сети.\n",
        "def train(net, data, epochs=10, batch_size=10, seq_length=50, lr=0.001, clip=5, val_frac=0.1, print_every=10):\n",
        "    \n",
        "    net.train()\n",
        "\n",
        "    opt = torch.optim.RMSprop(net.parameters(), lr=lr)\n",
        "    criterion = nn.CrossEntropyLoss()\n",
        "\n",
        "    # Создаем обучающие и валидационные данные.\n",
        "    val_idx = int(len(data)*(1-val_frac))\n",
        "    data, val_data = data[:val_idx], data[val_idx:]\n",
        "\n",
        "    if(train_on_gpu):\n",
        "        net.cuda()\n",
        "\n",
        "    counter = 0\n",
        "    n_chars = len(net.chars)\n",
        "    for e in range(epochs):\n",
        "        h = net.init_hidden(batch_size)\n",
        "\n",
        "        for x, y in get_batches(data, batch_size, seq_length):\n",
        "            counter += 1\n",
        "\n",
        "            x = one_hot_encode(x, n_chars)\n",
        "            inputs, targets = torch.from_numpy(x), torch.from_numpy(y)\n",
        "\n",
        "            if(train_on_gpu):\n",
        "                inputs, targets = inputs.cuda(), targets.cuda()\n",
        "\n",
        "            h = tuple([each.data for each in h])\n",
        "\n",
        "            net.zero_grad()\n",
        "\n",
        "            output, h = net(inputs, h)\n",
        "\n",
        "            loss = criterion(output, targets.view(batch_size*seq_length).long())\n",
        "            loss.backward()\n",
        "            nn.utils.clip_grad_norm_(net.parameters(), clip)\n",
        "            opt.step()\n",
        "\n",
        "            if counter % print_every == 0:\n",
        "                val_h = net.init_hidden(batch_size)\n",
        "                val_losses = []\n",
        "                net.eval()\n",
        "                for x, y in get_batches(val_data, batch_size, seq_length):\n",
        "                    x = one_hot_encode(x, n_chars)\n",
        "                    x, y = torch.from_numpy(x), torch.from_numpy(y)\n",
        "\n",
        "                    val_h = tuple([each.data for each in val_h])\n",
        "\n",
        "                    inputs, targets = x, y\n",
        "                    if(train_on_gpu):\n",
        "                        inputs, targets = inputs.cuda(), targets.cuda()\n",
        "\n",
        "                    output, val_h = net(inputs, val_h)\n",
        "                    val_loss = criterion(output, targets.view(batch_size*seq_length).long())\n",
        "\n",
        "                    val_losses.append(val_loss.item())\n",
        "\n",
        "                net.train()\n",
        "\n",
        "                print(\"Epoch: {}/{}...\".format(e+1, epochs),\n",
        "                      \"Step: {}...\".format(counter),\n",
        "                      \"Loss: {:.4f}...\".format(loss.item()),\n",
        "                      \"Val Loss: {:.4f}\".format(np.mean(val_losses)))"
      ],
      "execution_count": 0,
      "outputs": []
    },
    {
      "cell_type": "code",
      "metadata": {
        "id": "XfRg5H1rffwz",
        "colab_type": "code",
        "colab": {
          "base_uri": "https://localhost:8080/",
          "height": 102
        },
        "outputId": "0afb0ce5-95bc-4a00-a025-5fa0c3a697f1"
      },
      "source": [
        "n_hidden=512\n",
        "n_layers=2\n",
        "\n",
        "net = CharRNN(chars, n_hidden, n_layers)\n",
        "print(net)"
      ],
      "execution_count": 14,
      "outputs": [
        {
          "output_type": "stream",
          "text": [
            "CharRNN(\n",
            "  (lstm): LSTM(133, 512, num_layers=2, batch_first=True, dropout=0.5)\n",
            "  (dropout): Dropout(p=0.5, inplace=False)\n",
            "  (fc): Linear(in_features=512, out_features=133, bias=True)\n",
            ")\n"
          ],
          "name": "stdout"
        }
      ]
    },
    {
      "cell_type": "code",
      "metadata": {
        "id": "MhpLbCaHfvBk",
        "colab_type": "code",
        "colab": {
          "base_uri": "https://localhost:8080/",
          "height": 1000
        },
        "outputId": "4155146a-082b-4366-cab3-8336fa45c12d"
      },
      "source": [
        "batch_size = 128\n",
        "seq_length = 100\n",
        "n_epochs = 40 \n",
        "#Обучаем модель.\n",
        "train(net, encoded, epochs=n_epochs, batch_size=batch_size, seq_length=seq_length, lr=0.001, print_every=10)"
      ],
      "execution_count": 15,
      "outputs": [
        {
          "output_type": "stream",
          "text": [
            "Epoch: 1/40... Step: 10... Loss: 3.2915... Val Loss: 3.2856\n",
            "Epoch: 1/40... Step: 20... Loss: 3.2418... Val Loss: 3.2879\n",
            "Epoch: 1/40... Step: 30... Loss: 3.2531... Val Loss: 3.2871\n",
            "Epoch: 2/40... Step: 40... Loss: 3.2675... Val Loss: 3.2863\n",
            "Epoch: 2/40... Step: 50... Loss: 3.2211... Val Loss: 3.2850\n",
            "Epoch: 2/40... Step: 60... Loss: 3.2454... Val Loss: 3.2895\n",
            "Epoch: 3/40... Step: 70... Loss: 3.2442... Val Loss: 3.2791\n",
            "Epoch: 3/40... Step: 80... Loss: 3.2138... Val Loss: 3.2833\n",
            "Epoch: 3/40... Step: 90... Loss: 3.2198... Val Loss: 3.2719\n",
            "Epoch: 4/40... Step: 100... Loss: 3.2056... Val Loss: 3.2397\n",
            "Epoch: 4/40... Step: 110... Loss: 3.1455... Val Loss: 3.2008\n",
            "Epoch: 4/40... Step: 120... Loss: 3.1053... Val Loss: 3.1561\n",
            "Epoch: 5/40... Step: 130... Loss: 3.0847... Val Loss: 3.1221\n",
            "Epoch: 5/40... Step: 140... Loss: 3.0365... Val Loss: 3.0664\n",
            "Epoch: 5/40... Step: 150... Loss: 2.9673... Val Loss: 3.0168\n",
            "Epoch: 6/40... Step: 160... Loss: 2.9399... Val Loss: 2.9751\n",
            "Epoch: 6/40... Step: 170... Loss: 2.8788... Val Loss: 2.9419\n",
            "Epoch: 6/40... Step: 180... Loss: 2.8840... Val Loss: 2.9491\n",
            "Epoch: 7/40... Step: 190... Loss: 2.8501... Val Loss: 2.8984\n",
            "Epoch: 7/40... Step: 200... Loss: 2.8310... Val Loss: 2.9189\n",
            "Epoch: 7/40... Step: 210... Loss: 2.7956... Val Loss: 2.8641\n",
            "Epoch: 8/40... Step: 220... Loss: 2.8463... Val Loss: 2.9548\n",
            "Epoch: 8/40... Step: 230... Loss: 2.7196... Val Loss: 2.8147\n",
            "Epoch: 8/40... Step: 240... Loss: 2.7212... Val Loss: 2.8050\n",
            "Epoch: 9/40... Step: 250... Loss: 2.8862... Val Loss: 2.8977\n",
            "Epoch: 9/40... Step: 260... Loss: 2.7181... Val Loss: 2.8166\n",
            "Epoch: 9/40... Step: 270... Loss: 2.7050... Val Loss: 2.7685\n",
            "Epoch: 10/40... Step: 280... Loss: 2.6634... Val Loss: 2.7452\n",
            "Epoch: 10/40... Step: 290... Loss: 2.6521... Val Loss: 2.7744\n",
            "Epoch: 10/40... Step: 300... Loss: 2.6217... Val Loss: 2.7234\n",
            "Epoch: 11/40... Step: 310... Loss: 2.6588... Val Loss: 2.7319\n",
            "Epoch: 11/40... Step: 320... Loss: 2.6104... Val Loss: 2.7258\n",
            "Epoch: 11/40... Step: 330... Loss: 2.6043... Val Loss: 2.6875\n",
            "Epoch: 12/40... Step: 340... Loss: 2.5701... Val Loss: 2.6706\n",
            "Epoch: 12/40... Step: 350... Loss: 2.5156... Val Loss: 2.6440\n",
            "Epoch: 12/40... Step: 360... Loss: 2.5409... Val Loss: 2.6640\n",
            "Epoch: 13/40... Step: 370... Loss: 2.5482... Val Loss: 2.6220\n",
            "Epoch: 13/40... Step: 380... Loss: 2.4712... Val Loss: 2.6225\n",
            "Epoch: 13/40... Step: 390... Loss: 2.4766... Val Loss: 2.6017\n",
            "Epoch: 14/40... Step: 400... Loss: 2.4748... Val Loss: 2.5676\n",
            "Epoch: 14/40... Step: 410... Loss: 2.4377... Val Loss: 2.5716\n",
            "Epoch: 14/40... Step: 420... Loss: 2.4274... Val Loss: 2.5474\n",
            "Epoch: 15/40... Step: 430... Loss: 2.4093... Val Loss: 2.5071\n",
            "Epoch: 15/40... Step: 440... Loss: 2.3600... Val Loss: 2.5190\n",
            "Epoch: 15/40... Step: 450... Loss: 2.3737... Val Loss: 2.5102\n",
            "Epoch: 16/40... Step: 460... Loss: 2.3661... Val Loss: 2.4673\n",
            "Epoch: 16/40... Step: 470... Loss: 2.3155... Val Loss: 2.4747\n",
            "Epoch: 16/40... Step: 480... Loss: 2.3139... Val Loss: 2.4684\n",
            "Epoch: 17/40... Step: 490... Loss: 2.3134... Val Loss: 2.4381\n",
            "Epoch: 17/40... Step: 500... Loss: 2.2553... Val Loss: 2.4285\n",
            "Epoch: 17/40... Step: 510... Loss: 2.2965... Val Loss: 2.4473\n",
            "Epoch: 18/40... Step: 520... Loss: 2.2517... Val Loss: 2.3787\n",
            "Epoch: 18/40... Step: 530... Loss: 2.2258... Val Loss: 2.3681\n",
            "Epoch: 18/40... Step: 540... Loss: 2.2222... Val Loss: 2.3732\n",
            "Epoch: 19/40... Step: 550... Loss: 2.2050... Val Loss: 2.3368\n",
            "Epoch: 19/40... Step: 560... Loss: 2.1794... Val Loss: 2.3422\n",
            "Epoch: 19/40... Step: 570... Loss: 2.1668... Val Loss: 2.3252\n",
            "Epoch: 20/40... Step: 580... Loss: 2.1869... Val Loss: 2.3073\n",
            "Epoch: 20/40... Step: 590... Loss: 2.1247... Val Loss: 2.2960\n",
            "Epoch: 20/40... Step: 600... Loss: 2.1252... Val Loss: 2.2720\n",
            "Epoch: 21/40... Step: 610... Loss: 2.1624... Val Loss: 2.2739\n",
            "Epoch: 21/40... Step: 620... Loss: 2.0931... Val Loss: 2.2659\n",
            "Epoch: 21/40... Step: 630... Loss: 2.0943... Val Loss: 2.2389\n",
            "Epoch: 22/40... Step: 640... Loss: 2.0716... Val Loss: 2.2376\n",
            "Epoch: 22/40... Step: 650... Loss: 2.0372... Val Loss: 2.2101\n",
            "Epoch: 22/40... Step: 660... Loss: 2.0665... Val Loss: 2.2051\n",
            "Epoch: 23/40... Step: 670... Loss: 2.0421... Val Loss: 2.2015\n",
            "Epoch: 23/40... Step: 680... Loss: 2.0101... Val Loss: 2.1785\n",
            "Epoch: 23/40... Step: 690... Loss: 2.0173... Val Loss: 2.1591\n",
            "Epoch: 24/40... Step: 700... Loss: 2.0002... Val Loss: 2.1520\n",
            "Epoch: 24/40... Step: 710... Loss: 1.9857... Val Loss: 2.1567\n",
            "Epoch: 24/40... Step: 720... Loss: 1.9992... Val Loss: 2.1416\n",
            "Epoch: 25/40... Step: 730... Loss: 1.9734... Val Loss: 2.1330\n",
            "Epoch: 25/40... Step: 740... Loss: 1.9535... Val Loss: 2.1172\n",
            "Epoch: 25/40... Step: 750... Loss: 1.9674... Val Loss: 2.1264\n",
            "Epoch: 26/40... Step: 760... Loss: 1.9571... Val Loss: 2.1027\n",
            "Epoch: 26/40... Step: 770... Loss: 1.9181... Val Loss: 2.0840\n",
            "Epoch: 26/40... Step: 780... Loss: 1.9371... Val Loss: 2.0849\n",
            "Epoch: 27/40... Step: 790... Loss: 1.9218... Val Loss: 2.0957\n",
            "Epoch: 27/40... Step: 800... Loss: 1.8964... Val Loss: 2.0665\n",
            "Epoch: 27/40... Step: 810... Loss: 1.9143... Val Loss: 2.0654\n",
            "Epoch: 28/40... Step: 820... Loss: 1.8931... Val Loss: 2.0674\n",
            "Epoch: 28/40... Step: 830... Loss: 1.8710... Val Loss: 2.0420\n",
            "Epoch: 28/40... Step: 840... Loss: 1.8912... Val Loss: 2.0520\n",
            "Epoch: 29/40... Step: 850... Loss: 1.8736... Val Loss: 2.0424\n",
            "Epoch: 29/40... Step: 860... Loss: 1.8669... Val Loss: 2.0301\n",
            "Epoch: 29/40... Step: 870... Loss: 1.8699... Val Loss: 2.0159\n",
            "Epoch: 30/40... Step: 880... Loss: 1.8369... Val Loss: 2.0108\n",
            "Epoch: 30/40... Step: 890... Loss: 1.8382... Val Loss: 2.0221\n",
            "Epoch: 30/40... Step: 900... Loss: 1.8561... Val Loss: 2.0100\n",
            "Epoch: 31/40... Step: 910... Loss: 1.8272... Val Loss: 2.0043\n",
            "Epoch: 31/40... Step: 920... Loss: 1.8065... Val Loss: 1.9888\n",
            "Epoch: 31/40... Step: 930... Loss: 1.8364... Val Loss: 1.9893\n",
            "Epoch: 32/40... Step: 940... Loss: 1.8029... Val Loss: 1.9844\n",
            "Epoch: 32/40... Step: 950... Loss: 1.8095... Val Loss: 1.9901\n",
            "Epoch: 32/40... Step: 960... Loss: 1.8133... Val Loss: 1.9770\n",
            "Epoch: 33/40... Step: 970... Loss: 1.7830... Val Loss: 1.9775\n",
            "Epoch: 33/40... Step: 980... Loss: 1.7845... Val Loss: 1.9663\n",
            "Epoch: 33/40... Step: 990... Loss: 1.8003... Val Loss: 1.9640\n",
            "Epoch: 34/40... Step: 1000... Loss: 1.7718... Val Loss: 1.9614\n",
            "Epoch: 34/40... Step: 1010... Loss: 1.7782... Val Loss: 1.9458\n",
            "Epoch: 34/40... Step: 1020... Loss: 1.7885... Val Loss: 1.9467\n",
            "Epoch: 35/40... Step: 1030... Loss: 1.7605... Val Loss: 1.9405\n",
            "Epoch: 35/40... Step: 1040... Loss: 1.7532... Val Loss: 1.9306\n",
            "Epoch: 35/40... Step: 1050... Loss: 1.7694... Val Loss: 1.9304\n",
            "Epoch: 36/40... Step: 1060... Loss: 1.7319... Val Loss: 1.9354\n",
            "Epoch: 36/40... Step: 1070... Loss: 1.7371... Val Loss: 1.9228\n",
            "Epoch: 36/40... Step: 1080... Loss: 1.7573... Val Loss: 1.9206\n",
            "Epoch: 37/40... Step: 1090... Loss: 1.7160... Val Loss: 1.9150\n",
            "Epoch: 37/40... Step: 1100... Loss: 1.7200... Val Loss: 1.9140\n",
            "Epoch: 37/40... Step: 1110... Loss: 1.7454... Val Loss: 1.9160\n",
            "Epoch: 38/40... Step: 1120... Loss: 1.7162... Val Loss: 1.9139\n",
            "Epoch: 38/40... Step: 1130... Loss: 1.7068... Val Loss: 1.9096\n",
            "Epoch: 38/40... Step: 1140... Loss: 1.7373... Val Loss: 1.9094\n",
            "Epoch: 39/40... Step: 1150... Loss: 1.6929... Val Loss: 1.9089\n",
            "Epoch: 39/40... Step: 1160... Loss: 1.6903... Val Loss: 1.8981\n",
            "Epoch: 39/40... Step: 1170... Loss: 1.7162... Val Loss: 1.9042\n",
            "Epoch: 40/40... Step: 1180... Loss: 1.6785... Val Loss: 1.9052\n",
            "Epoch: 40/40... Step: 1190... Loss: 1.6970... Val Loss: 1.8981\n",
            "Epoch: 40/40... Step: 1200... Loss: 1.7025... Val Loss: 1.8856\n"
          ],
          "name": "stdout"
        }
      ]
    },
    {
      "cell_type": "code",
      "metadata": {
        "id": "ENg9yZlt_9a4",
        "colab_type": "code",
        "colab": {}
      },
      "source": [
        "#Сохраним нашу модель\n",
        "model_name = 'rnn_x_epoch.net'\n",
        "checkpoint = {\n",
        "    'n_hidden': net.n_hidden,\n",
        "    'n_layers': net.n_layers,\n",
        "    'state_dict': net.state_dict(),\n",
        "    'tokens': net.chars}\n",
        "\n",
        "with open(model_name, 'wb') as f:\n",
        "  torch.save(checkpoint, f)"
      ],
      "execution_count": 0,
      "outputs": []
    },
    {
      "cell_type": "code",
      "metadata": {
        "id": "82X_ujx-B2pe",
        "colab_type": "code",
        "colab": {
          "base_uri": "https://localhost:8080/",
          "height": 88
        },
        "outputId": "4d7a2f5c-7df1-43ae-cda3-4f6a6e10f0cc"
      },
      "source": [
        "def predict(net, char, h=None, top_k=None):\n",
        "  x = np.array([[net.char2int[char]]])\n",
        "  x = one_hot_encode(x, len(net.chars))\n",
        "  inputs = torch.from_numpy(x)\n",
        "  if(train_on_gpu):\n",
        "    inputs = inputs.cuda()\n",
        "\n",
        "  h = tuple([each.data for each in h])\n",
        "  out, h = net(inputs, h)\n",
        "  p = F.softmax(out, dim=1).data\n",
        "  if(train_on_gpu):\n",
        "    p = p.cpu()\n",
        "  if top_k is None:\n",
        "    top_ch = np.arange(len(net.chars))\n",
        "  else:\n",
        "    p, top_ch = p.topk(top_k)\n",
        "    top_ch = top_ch.numpy().squeeze()\n",
        "  p = p.numpy().squeeze()\n",
        "  char = np.random.choice(top_ch, p=p/p.sum())\n",
        "\n",
        "  return net.int2char[char], h\n",
        "\n",
        "def sample(net, size, prime='The', top_k=None):\n",
        "  if(train_on_gpu):\n",
        "    net.cuda()\n",
        "  else:\n",
        "    net.cpu()\n",
        "  net.eval() \n",
        "  chars = [ch for ch in prime]\n",
        "  h = net.init_hidden(1)\n",
        "\n",
        "  for ch in prime:\n",
        "    char, h = predict(net, ch, h, top_k=top_k)\n",
        "  chars.append(char)\n",
        "\n",
        "  for ii in range(size):\n",
        "    char, h = predict(net, chars[-1], h, top_k=top_k)\n",
        "    chars.append(char)\n",
        "\n",
        "  return ''.join(chars)\n",
        "  \n",
        "print(sample(net, 1000, prime='Анна', top_k=5))"
      ],
      "execution_count": 17,
      "outputs": [
        {
          "output_type": "stream",
          "text": [
            "Анная; по меня столько стоит подудель вогороде свои и про стыл советить в сердце всем и придомилась с ним своех, что он был одна в какой-то в пода вам все трепутался, что вы только от слово, что все странной слышит, и про мое блогоромнее вословим, что он сама преждетель в плакное своим сердце моей, чего все-таки пристарных совенена и возмение, к посмотрите минула со даленеем своим солокним, и под нас все свете служает весьма, вся непогодном выходите, чтоб не следа то что-то испетивается, что вот в свою нашимали, когда мы слова, покраснываю, чтобы и не смирать нашем совсем неменника, несказное все на себя.\n",
            "Милостительной друг мой! Вот я ваду и тут он из ничего; и вы покучайте, как и все подусинней моих драже и так селецины, что уже слезами старовой, и не вышел свидал меня изверениим весливанием плакая потому ставом слезы,\n",
            "— стали потрясительное всего в тему. Ну, доставало, что не прочиться вашу сердце, на сегодня, пример в простила, что я сказал он носчилось вашу, и стыр и не смелнила обидел\n"
          ],
          "name": "stdout"
        }
      ]
    },
    {
      "cell_type": "code",
      "metadata": {
        "id": "DfOXxGZeCyfA",
        "colab_type": "code",
        "colab": {
          "base_uri": "https://localhost:8080/",
          "height": 54
        },
        "outputId": "80c577ce-9ff5-4187-d1d8-50ede43fdbcd"
      },
      "source": [
        "#Загрузка модели.\n",
        "with open('rnn_x_epoch.net', 'rb') as f:\n",
        "  checkpoint = torch.load(f)\n",
        "\n",
        "loaded = CharRNN(checkpoint['tokens'], n_hidden=checkpoint['n_hidden'], n_layers=checkpoint['n_layers'])\n",
        "loaded.load_state_dict(checkpoint['state_dict'])\n",
        "\n",
        "print(sample(loaded, 2000, top_k=5, prime=\"И он сказал\"))"
      ],
      "execution_count": 18,
      "outputs": [
        {
          "output_type": "stream",
          "text": [
            "И он сказал с ним. Я письмо себе вспугнивает нуждо, и ни старом, что все вы старый мидуты столоки. Я не выстинный, в тратьером превестами, и поседели в кравеце с постовини, что в друг мой, стало вот как же в самое, который старак был из возму ились, что в сердцу., На что не столи выходительстве, что он с ними и прошила несчастное. Превослезномием по показать с вами, по моему восметить старика, прошел передобраться, к нашу подрожалось старый, когда в первое и слушыми не знаю, не за то вас случать, так, примерил вас, не совару и, что вы с просила меня, что я себя посмеются, что у ведь не могла от не становите. Откровит с свойму не страдникахо и тажется подавала отверяли, теперь солетную веденьку, по меня! Они вам подорвали. Вы с самие привосходило себя подавала на меня, чтоб я все подобное и воселается от нашего подоржнось на веснитьсе вашему все теперь! Ну, да вос перебрагела, то я все, когда он прежде серезния, потому что он полижу то вам ни служали и продавить в себя и не мое не в то не старость обо всем ведить совостом службе, как тут, что у весь, что он будет никакого, которие в том, что вольная просолителино, потому что я по нестороным пристолели сердце, подаметь, что я так непраятный мечицать. В этом письме слезному имое и превосходиние. Не в помню, какого никат, тогда не заметились. Вот у него собершенных из мистем, что уж все стало без предлегими. Я подли нее начего не было, что он на мной, сторино послушаю пишете сторое. Я наказаные пишите. Просто сердце мое вам вы траснули с нем, и так стал и не преведно, и вот он возвадите ли, как я в подамить на меня. Правда не скужу и в кого, душа тревает, что я петему черовнаки, как в пороменно превосходе постепенная, который вся пристойным и восторженный дель приворности, по привычной расскажительника. Потом вы преполенно столько старика, когда моя сказала в помину вам все принямала. Последняет минуты и собрунной про селенья со постарителя, какое-нибудь потому как все тепоро на веденниму и нужный происности, как будет преслать при\n"
          ],
          "name": "stdout"
        }
      ]
    }
  ]
}